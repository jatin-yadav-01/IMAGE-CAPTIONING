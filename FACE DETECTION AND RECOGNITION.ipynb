{
 "cells": [
  {
   "cell_type": "code",
   "execution_count": null,
   "id": "bfcb8891-5e25-481b-b847-7fdb14292554",
   "metadata": {},
   "outputs": [],
   "source": []
  },
  {
   "cell_type": "code",
   "execution_count": null,
   "id": "72c2bcf7-8ed6-409a-903c-517796a18e9c",
   "metadata": {},
   "outputs": [],
   "source": []
  },
  {
   "cell_type": "code",
   "execution_count": null,
   "id": "cef67d66-1b98-4f58-a487-fc960ff0d73a",
   "metadata": {},
   "outputs": [],
   "source": []
  },
  {
   "cell_type": "code",
   "execution_count": null,
   "id": "58c4df04-ce01-41d5-97d6-9a001fd4e292",
   "metadata": {},
   "outputs": [],
   "source": []
  },
  {
   "cell_type": "code",
   "execution_count": null,
   "id": "3e875082-e9cb-41af-83fe-ced4eb0bdee2",
   "metadata": {},
   "outputs": [],
   "source": [
    " \n"
   ]
  },
  {
   "cell_type": "code",
   "execution_count": null,
   "id": "da420f2f-e10a-4eff-b270-18afbadaa2bd",
   "metadata": {},
   "outputs": [],
   "source": []
  },
  {
   "cell_type": "code",
   "execution_count": 4,
   "id": "bab5e515-6068-47e2-b4fa-1eb16e533f06",
   "metadata": {},
   "outputs": [],
   "source": [
    "import cv2"
   ]
  },
  {
   "cell_type": "code",
   "execution_count": 13,
   "id": "ece5e7fd-8d31-43be-8f99-3d2c792edf8d",
   "metadata": {},
   "outputs": [],
   "source": []
  },
  {
   "cell_type": "code",
   "execution_count": null,
   "id": "9e772494-a96a-4502-95db-d5ef451da5ed",
   "metadata": {},
   "outputs": [],
   "source": []
  },
  {
   "cell_type": "code",
   "execution_count": null,
   "id": "283696d6-e02d-48ef-9188-47e9c1cd2f1d",
   "metadata": {},
   "outputs": [],
   "source": []
  },
  {
   "cell_type": "code",
   "execution_count": 7,
   "id": "1f6f6398-77bf-446d-a693-a86ed6c3437b",
   "metadata": {},
   "outputs": [],
   "source": [
    "# import cv2\n",
    "# \n",
    "# video_cap = cv2.VideoCapture(0)\n",
    "# \n",
    "# while True:\n",
    "#     ret, video_data = video_cap.read()\n",
    "#     cv2.imshow(\"video_live\", video_data)\n",
    "# \n",
    "#     if cv2.waitKey(10) == ord(\"a\"):  \n",
    "#         break\n",
    "# \n",
    "# video_cap.release()  \n",
    "# cv2.destroyAllWindows()   \n"
   ]
  },
  {
   "cell_type": "code",
   "execution_count": null,
   "id": "b62303e4-8512-4b47-a84f-d5b0f7852af4",
   "metadata": {},
   "outputs": [],
   "source": [
    " "
   ]
  },
  {
   "cell_type": "code",
   "execution_count": 11,
   "id": "2c86d71b-20a9-4a88-8f03-956631b9881e",
   "metadata": {},
   "outputs": [],
   "source": [
    "import cv2\n",
    "\n",
    "\n",
    "face_cap = cv2.CascadeClassifier(\"C:\\\\Users\\\\Admin\\\\anaconda3\\\\Lib\\\\site-packages\\\\cv2\\\\data\\\\haarcascade_frontalface_default.xml\")\n",
    "\n",
    "\n",
    "if face_cap.empty():\n",
    "    print(\"Error: Could not load Haar cascade file.\")\n",
    "    exit()\n",
    "\n",
    "\n",
    "video_cap = cv2.VideoCapture(0)\n",
    "\n",
    "while True:\n",
    "    ret, video_data = video_cap.read()\n",
    "\n",
    "    \n",
    "    if not ret:\n",
    "        continue  \n",
    "\n",
    "   \n",
    "    col = cv2.cvtColor(video_data, cv2.COLOR_BGR2GRAY)\n",
    "\n",
    "    # Detect faces\n",
    "    faces = face_cap.detectMultiScale(\n",
    "        col,\n",
    "        scaleFactor=1.1,\n",
    "        minNeighbors=5,\n",
    "        minSize=(30, 30),\n",
    "        flags=cv2.CASCADE_SCALE_IMAGE\n",
    "    )\n",
    "\n",
    "    # Draw rectangles around detected faces\n",
    "    for (x, y, w, h) in faces:\n",
    "        cv2.rectangle(video_data, (x, y), (x + w, y + h), (0, 255, 0), 2)\n",
    "\n",
    "    # Display video\n",
    "    cv2.imshow(\"video_live\", video_data)\n",
    "\n",
    "    # Exit on pressing 'a'\n",
    "    if cv2.waitKey(10) == ord(\"a\"):\n",
    "        break\n",
    "\n",
    "# Release the camera and close windows\n",
    "video_cap.release()\n",
    "cv2.destroyAllWindows()\n"
   ]
  },
  {
   "cell_type": "code",
   "execution_count": null,
   "id": "b1920b20-2fdd-4041-b2aa-818221ea490c",
   "metadata": {},
   "outputs": [],
   "source": []
  },
  {
   "cell_type": "code",
   "execution_count": null,
   "id": "9c9d2505-3005-4603-950a-a9e4a436a11d",
   "metadata": {},
   "outputs": [],
   "source": []
  },
  {
   "cell_type": "code",
   "execution_count": null,
   "id": "28558c70-0ff0-47c8-9fd4-3a00b7f1ecf1",
   "metadata": {},
   "outputs": [],
   "source": []
  },
  {
   "cell_type": "code",
   "execution_count": null,
   "id": "13687b2e-6cbd-4d33-9f37-124167760074",
   "metadata": {},
   "outputs": [],
   "source": []
  }
 ],
 "metadata": {
  "kernelspec": {
   "display_name": "Python 3 (ipykernel)",
   "language": "python",
   "name": "python3"
  },
  "language_info": {
   "codemirror_mode": {
    "name": "ipython",
    "version": 3
   },
   "file_extension": ".py",
   "mimetype": "text/x-python",
   "name": "python",
   "nbconvert_exporter": "python",
   "pygments_lexer": "ipython3",
   "version": "3.11.7"
  }
 },
 "nbformat": 4,
 "nbformat_minor": 5
}
